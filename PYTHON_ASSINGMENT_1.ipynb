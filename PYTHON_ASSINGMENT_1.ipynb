{
  "nbformat": 4,
  "nbformat_minor": 0,
  "metadata": {
    "colab": {
      "provenance": []
    },
    "kernelspec": {
      "name": "python3",
      "display_name": "Python 3"
    },
    "language_info": {
      "name": "python"
    }
  },
  "cells": [
    {
      "cell_type": "code",
      "execution_count": 25,
      "metadata": {
        "id": "zcZQPOiJjXye",
        "colab": {
          "base_uri": "https://localhost:8080/"
        },
        "outputId": "ab38bca2-5b18-47bc-9684-dc09b5a094c5"
      },
      "outputs": [
        {
          "output_type": "stream",
          "name": "stdout",
          "text": [
            "True\n"
          ]
        }
      ],
      "source": [
        "# 1. String (5 Questions)\n",
        "def is_palindrome(s):\n",
        "    return s == s[::-1]\n",
        "\n",
        "# Example usage\n",
        "word = \"madam\"\n",
        "print(is_palindrome(word))  # Output: True\n"
      ]
    },
    {
      "cell_type": "code",
      "source": [
        "# 2. Count the number of vowels in a string and store the result in a dictionary.\n",
        "def count_vowels(s):\n",
        "    vowels=\"aeiou\"\n",
        "    result = {v: 0 for v in vowels}\n",
        "\n",
        "    for char in s.lower():\n",
        "        if char in result:\n",
        "            result[char] += 1\n",
        "\n",
        "    return result\n",
        "\n",
        "# Example usage\n",
        "text = \"Hello, World!\"\n",
        "vowel_counts = count_vowels(text)\n",
        "print(vowel_counts)"
      ],
      "metadata": {
        "colab": {
          "base_uri": "https://localhost:8080/"
        },
        "id": "VVzPRgUSkJwZ",
        "outputId": "32fd3b81-c8a3-437b-b3b3-141fc42423c9"
      },
      "execution_count": null,
      "outputs": [
        {
          "output_type": "stream",
          "name": "stdout",
          "text": [
            "{'a': 0, 'e': 1, 'i': 0, 'o': 2, 'u': 0}\n"
          ]
        }
      ]
    },
    {
      "cell_type": "code",
      "source": [
        "#  3. Convert the first letter of each word in a string to uppercase (title case manually).\n",
        "def to_title_case(s):\n",
        "    words = s.split()\n",
        "    title_cased = [word[0].upper() + word[1:].lower() if word else '' for word in words]\n",
        "    return ' '.join(title_cased)\n",
        "\n",
        "# Example usage\n",
        "text = \"hello world! this is python.\"\n",
        "converted = to_title_case(text)\n",
        "print(converted)"
      ],
      "metadata": {
        "colab": {
          "base_uri": "https://localhost:8080/"
        },
        "id": "WwkcDVE0k-8S",
        "outputId": "183df68b-f80e-4a51-b9c2-05493ed18f9b"
      },
      "execution_count": null,
      "outputs": [
        {
          "output_type": "stream",
          "name": "stdout",
          "text": [
            "Hello World! This Is Python.\n"
          ]
        }
      ]
    },
    {
      "cell_type": "code",
      "source": [
        "#  4. Find the most frequently occurring character in a string.\n",
        "from collections import Counter\n",
        "\n",
        "def most_frequent_char(s):\n",
        "    # Filter out spaces if you want to ignore them\n",
        "    filtered = [c for c in s if not c.isspace()]\n",
        "    counts = Counter(filtered)\n",
        "\n",
        "    if counts:\n",
        "        most_common = counts.most_common(1)[0]\n",
        "        return most_common[0], most_common[1]\n",
        "    else:\n",
        "        return None, 0\n",
        "\n",
        "# Example usage\n",
        "text = \"hello world\"\n",
        "char, freq = most_frequent_char(text)\n",
        "print(f\"The most frequent character is '{char}' with {freq} occurrences.\")"
      ],
      "metadata": {
        "colab": {
          "base_uri": "https://localhost:8080/"
        },
        "id": "kPxgup5wlheM",
        "outputId": "60277e24-b2d0-4e43-fd16-a728a1ff4327"
      },
      "execution_count": null,
      "outputs": [
        {
          "output_type": "stream",
          "name": "stdout",
          "text": [
            "The most frequent character is 'l' with 3 occurrences.\n"
          ]
        }
      ]
    },
    {
      "cell_type": "code",
      "source": [
        "# 5. Count digits, alphabets, and special characters separately in a string.\n",
        "def count_char_types(s):\n",
        "    counts = {\n",
        "        'alphabets': 0,\n",
        "        'digits': 0,\n",
        "        'special_characters': 0\n",
        "    }\n",
        "\n",
        "    for char in s:\n",
        "        if char.isalpha():\n",
        "            counts['alphabets'] += 1\n",
        "        elif char.isdigit():\n",
        "            counts['digits'] += 1\n",
        "        else:\n",
        "            counts['special_characters'] += 1\n",
        "\n",
        "    return counts\n",
        "\n",
        "# Example usage\n",
        "text = \"Hello @2025!\"\n",
        "result = count_char_types(text)\n",
        "print(result)\n"
      ],
      "metadata": {
        "colab": {
          "base_uri": "https://localhost:8080/"
        },
        "id": "vqzpwZt_lz6T",
        "outputId": "6e376059-807d-46dd-d249-f340db199dce"
      },
      "execution_count": null,
      "outputs": [
        {
          "output_type": "stream",
          "name": "stdout",
          "text": [
            "{'alphabets': 5, 'digits': 4, 'special_characters': 3}\n"
          ]
        }
      ]
    },
    {
      "cell_type": "code",
      "source": [
        "# 2. List (5 Questions)\n",
        "# 6. Remove duplicate elements from a list without using set().\n",
        "def remove_duplicates(lst):\n",
        "    unique = []\n",
        "    for item in lst:\n",
        "        if item not in unique:\n",
        "            unique.append(item)\n",
        "    return unique\n",
        "\n",
        "# Example usage\n",
        "data = [1, 2, 2, 3, 4, 4, 5, 1]\n",
        "cleaned = remove_duplicates(data)\n",
        "print(cleaned)\n"
      ],
      "metadata": {
        "colab": {
          "base_uri": "https://localhost:8080/"
        },
        "id": "m33JBC8nmC9r",
        "outputId": "2f222d47-8fd9-4851-a049-cd94d4081d96"
      },
      "execution_count": null,
      "outputs": [
        {
          "output_type": "stream",
          "name": "stdout",
          "text": [
            "[1, 2, 3, 4, 5]\n"
          ]
        }
      ]
    },
    {
      "cell_type": "code",
      "source": [
        "# 8. Find the 2nd largest and 2nd smallest element in a list.\n",
        "def find_second_largest_smallest(lst):\n",
        "    if len(lst) < 2:\n",
        "        return None, None  # Not enough elements\n",
        "\n",
        "    largest = second_largest = float('-inf')\n",
        "    smallest = second_smallest = float('inf')\n",
        "\n",
        "    for num in lst:\n",
        "        # Update largest and second largest\n",
        "        if num > largest:\n",
        "            second_largest = largest\n",
        "            largest = num\n",
        "        elif largest > num > second_largest:\n",
        "            second_largest = num\n",
        "\n",
        "        # Update smallest and second smallest\n",
        "        if num < smallest:\n",
        "            second_smallest = smallest\n",
        "            smallest = num\n",
        "        elif smallest < num < second_smallest:\n",
        "            second_smallest = num\n",
        "\n",
        "    # Handle cases where second values weren't updated\n",
        "    if second_largest == float('-inf'):\n",
        "        second_largest = None\n",
        "    if second_smallest == float('inf'):\n",
        "        second_smallest = None\n",
        "\n",
        "    return second_smallest, second_largest\n",
        "\n",
        "# Example usage\n",
        "data = [5, 3, 9, 1, 9, 3, 7]\n",
        "second_smallest, second_largest = find_second_largest_smallest(data)\n",
        "print(f\"2nd Smallest: {second_smallest}, 2nd Largest: {second_largest}\")\n"
      ],
      "metadata": {
        "colab": {
          "base_uri": "https://localhost:8080/"
        },
        "id": "c8Ri6r9Kmxz0",
        "outputId": "0d6a4505-e013-451b-bb12-4d459aa684a5"
      },
      "execution_count": null,
      "outputs": [
        {
          "output_type": "stream",
          "name": "stdout",
          "text": [
            "2nd Smallest: 3, 2nd Largest: 7\n"
          ]
        }
      ]
    },
    {
      "cell_type": "code",
      "source": [],
      "metadata": {
        "id": "uDuQUjVlEUTB"
      },
      "execution_count": null,
      "outputs": []
    },
    {
      "cell_type": "code",
      "source": [
        "# 10. Flatten a nested list into a single list.\n",
        "list1=[[1,2],[2,4],[3,6]]\n",
        "list2=[]\n",
        "for i in list1:\n",
        "    for j in i:\n",
        "      list2.append(j)\n",
        "print(list2)"
      ],
      "metadata": {
        "id": "TW7rBJLrnKdD",
        "colab": {
          "base_uri": "https://localhost:8080/"
        },
        "outputId": "a6d02114-d8e6-4bc6-fb2f-9d4a306b60f2"
      },
      "execution_count": null,
      "outputs": [
        {
          "output_type": "stream",
          "name": "stdout",
          "text": [
            "[1, 2, 2, 4, 3, 6]\n"
          ]
        }
      ]
    },
    {
      "cell_type": "code",
      "source": [
        "# 7. Reverse a list without using built-in functions.\n",
        "list2=[1,2,3,4,5]\n",
        "list2=list2[::-1]\n",
        "print(list2)"
      ],
      "metadata": {
        "colab": {
          "base_uri": "https://localhost:8080/"
        },
        "id": "YENeW39qDL99",
        "outputId": "0c1a4de8-7083-47ee-b275-be2bff2ff4c2"
      },
      "execution_count": null,
      "outputs": [
        {
          "output_type": "stream",
          "name": "stdout",
          "text": [
            "[5, 4, 3, 2, 1]\n"
          ]
        }
      ]
    },
    {
      "cell_type": "code",
      "source": [
        "# 9. Store the square of each element of a list into a new list (using list comprehension).\n",
        "list1=[1,2,3,4,5]\n",
        "list2=[i*i for i in list1]\n",
        "print(list2)"
      ],
      "metadata": {
        "colab": {
          "base_uri": "https://localhost:8080/"
        },
        "id": "xjOB9GjUEVqx",
        "outputId": "57b3ce08-b7ab-40fd-b0ee-f70b9be3d30c"
      },
      "execution_count": null,
      "outputs": [
        {
          "output_type": "stream",
          "name": "stdout",
          "text": [
            "[1, 4, 9, 16, 25]\n"
          ]
        }
      ]
    },
    {
      "cell_type": "code",
      "source": [
        "# 3. Tuple (5 Questions)\n",
        "# 11. Reverse a tuple without using [::-1].\n",
        "tuple1=(1,\"python\",12,14,2.5)\n",
        "list1=list(tuple1)\n",
        "list1.reverse()\n",
        "tuple2=tuple(list1)\n",
        "print(tuple2)"
      ],
      "metadata": {
        "colab": {
          "base_uri": "https://localhost:8080/"
        },
        "id": "qWkczYKwE_AZ",
        "outputId": "a9ef336e-6857-45a8-cfd3-2930973b1ded"
      },
      "execution_count": null,
      "outputs": [
        {
          "output_type": "stream",
          "name": "stdout",
          "text": [
            "(2.5, 14, 12, 'python', 1)\n"
          ]
        }
      ]
    },
    {
      "cell_type": "code",
      "source": [
        "# 12. Extract unique elements from a tuple and store them in a new list.\n",
        "a=(1,2,2,3,4,3,5,6,5,7)\n",
        "b=set(a)\n",
        "c=list(b)\n",
        "print(c)"
      ],
      "metadata": {
        "id": "tPgkzow-GVeo",
        "colab": {
          "base_uri": "https://localhost:8080/"
        },
        "outputId": "b785c083-ddef-4a14-a6e3-9a2cb9fb8080"
      },
      "execution_count": 3,
      "outputs": [
        {
          "output_type": "stream",
          "name": "stdout",
          "text": [
            "[1, 2, 3, 4, 5, 6, 7]\n"
          ]
        }
      ]
    },
    {
      "cell_type": "code",
      "source": [
        "# 13. Concatenate two tuples and sort them.\n",
        "tuple1=(1,2,3,10,8,6,7)\n",
        "tuple2=(4,5,3,2,2)\n",
        "tuple3=tuple1+tuple2\n",
        "print(tuple3)\n",
        "a=sorted(tuple3)\n",
        "print(a)"
      ],
      "metadata": {
        "colab": {
          "base_uri": "https://localhost:8080/"
        },
        "id": "-fHRo3v0_NEH",
        "outputId": "ed004066-bde9-4490-e0f9-47fc5e9112a0"
      },
      "execution_count": 6,
      "outputs": [
        {
          "output_type": "stream",
          "name": "stdout",
          "text": [
            "(1, 2, 3, 10, 8, 6, 7, 4, 5, 3, 2, 2)\n",
            "[1, 2, 2, 2, 3, 3, 4, 5, 6, 7, 8, 10]\n"
          ]
        }
      ]
    },
    {
      "cell_type": "code",
      "source": [
        "# 14. Count the frequency of an element in a tuple without using count().\n",
        "tuple1=(1,2,4,5,4,23,47,78,2,1,4,6,8,9,4,11)\n",
        "target=4\n",
        "frequency=0\n",
        "for i in tuple1:\n",
        "  if i== target:\n",
        "    frequency+=1\n",
        "print(f\"The element {target} appears {frequency} times.\")"
      ],
      "metadata": {
        "colab": {
          "base_uri": "https://localhost:8080/"
        },
        "id": "NKVTBk4uAvFL",
        "outputId": "b2a5b6aa-b87b-4f17-b89e-8d80623e3f88"
      },
      "execution_count": 8,
      "outputs": [
        {
          "output_type": "stream",
          "name": "stdout",
          "text": [
            "The element 4 appears 4 times.\n"
          ]
        }
      ]
    },
    {
      "cell_type": "code",
      "source": [
        "# 15. From a tuple of numbers, create two tuples: one with even numbers and one with odd numbers.\n",
        "tuple1=(1,2,4,5,7,8,9,5,6,4,7,10,11,5)\n",
        "even_list = []\n",
        "odd_list = []\n",
        "\n",
        "for i in tuple1:\n",
        "  if i % 2 == 0:\n",
        "    even_list.append(i)\n",
        "  else:\n",
        "    odd_list.append(i)\n",
        "\n",
        "tuple2 = tuple(even_list)\n",
        "tuple3 = tuple(odd_list)\n",
        "\n",
        "print(\"Even numbers tuple:\", tuple2)\n",
        "print(\"Odd numbers tuple:\", tuple3)"
      ],
      "metadata": {
        "colab": {
          "base_uri": "https://localhost:8080/"
        },
        "id": "ztX8qsEmCUOQ",
        "outputId": "c75cab55-d017-4662-8c5d-80c4e2ed6cd7"
      },
      "execution_count": 10,
      "outputs": [
        {
          "output_type": "stream",
          "name": "stdout",
          "text": [
            "Even numbers tuple: (2, 4, 8, 6, 4, 10)\n",
            "Odd numbers tuple: (1, 5, 7, 9, 5, 7, 11, 5)\n"
          ]
        }
      ]
    },
    {
      "cell_type": "code",
      "source": [
        "# 4. Set (5 Questions)\n",
        " # 16. Perform union, intersection, and difference of two sets without using built-in operators.\n",
        "set1={1,2,4,6,7}\n",
        "set2={3,4,6,8,9,10}\n",
        "union_result = set()\n",
        "\n",
        "# Add all elements from set1\n",
        "for item in set1:\n",
        "    union_result.add(item)\n",
        "\n",
        "# Add elements from set2 if not already in union_result\n",
        "for item in set2:\n",
        "    if item not in union_result:\n",
        "        union_result.add(item)\n",
        "\n",
        "print(\"Union:\", union_result)\n",
        "intersection_result = set()\n",
        "\n",
        "for item in set1:\n",
        "    if item in set2:\n",
        "        intersection_result.add(item)\n",
        "\n",
        "print(\"Intersection:\", intersection_result)\n",
        "difference_result = set()\n",
        "\n",
        "for item in set1:\n",
        "    if item not in set2:\n",
        "        difference_result.add(item)\n",
        "\n",
        "print(\"Difference (set1 - set2):\", difference_result)\n",
        "\n"
      ],
      "metadata": {
        "colab": {
          "base_uri": "https://localhost:8080/"
        },
        "id": "Wy6ytTrDE2ql",
        "outputId": "f644daf8-56af-4163-84f3-843173a90175"
      },
      "execution_count": 12,
      "outputs": [
        {
          "output_type": "stream",
          "name": "stdout",
          "text": [
            "Union: {1, 2, 3, 4, 6, 7, 8, 9, 10}\n",
            "Intersection: {4, 6}\n",
            "Difference (set1 - set2): {1, 2, 7}\n"
          ]
        }
      ]
    },
    {
      "cell_type": "code",
      "source": [
        "# 17. Remove a random element from a set (without using pop()).\n",
        "\n",
        "import random\n",
        "\n",
        "# Original set\n",
        "my_set = {10, 20, 30, 40, 50}\n",
        "\n",
        "# Convert to list to pick a random element\n",
        "temp_list = list(my_set)\n",
        "random_element = random.choice(temp_list)\n",
        "\n",
        "# Remove the chosen element from the set\n",
        "my_set.remove(random_element)\n",
        "\n",
        "# Output the result\n",
        "print(f\"Removed element: {random_element}\")\n",
        "print(f\"Updated set: {my_set}\")\n"
      ],
      "metadata": {
        "colab": {
          "base_uri": "https://localhost:8080/"
        },
        "id": "6D2ZH6R4IOwo",
        "outputId": "6d891fcf-3ced-4d6f-b4d9-20cdf4986f92"
      },
      "execution_count": 14,
      "outputs": [
        {
          "output_type": "stream",
          "name": "stdout",
          "text": [
            "Removed element: 20\n",
            "Updated set: {50, 40, 10, 30}\n"
          ]
        }
      ]
    },
    {
      "cell_type": "code",
      "source": [
        "# 18. Convert a list into a set and check if duplicates are removed.\n",
        "list1=[1,2,4,5,4,3,4,3]\n",
        "set1=set(list1)\n",
        "print(set1)"
      ],
      "metadata": {
        "colab": {
          "base_uri": "https://localhost:8080/"
        },
        "id": "6N4mQpeDJad3",
        "outputId": "d461342e-23b3-49af-c065-b02f8ba822e2"
      },
      "execution_count": 15,
      "outputs": [
        {
          "output_type": "stream",
          "name": "stdout",
          "text": [
            "{1, 2, 3, 4, 5}\n"
          ]
        }
      ]
    },
    {
      "cell_type": "code",
      "source": [
        "# 19. Check if two sets are disjoint.\n",
        "# Define two sets\n",
        "set_a = {1, 2, 3}\n",
        "set_b = {4, 5, 6}\n",
        "\n",
        "# Check if they are disjoint\n",
        "are_disjoint = set_a.isdisjoint(set_b)\n",
        "\n",
        "# Print result\n",
        "print(\"Are the sets disjoint?\", are_disjoint)\n"
      ],
      "metadata": {
        "colab": {
          "base_uri": "https://localhost:8080/"
        },
        "id": "8F_zBeHKKWQh",
        "outputId": "a3ecb64c-35b0-4d0b-a532-c48ecfcefd2b"
      },
      "execution_count": 16,
      "outputs": [
        {
          "output_type": "stream",
          "name": "stdout",
          "text": [
            "Are the sets disjoint? True\n"
          ]
        }
      ]
    },
    {
      "cell_type": "code",
      "source": [
        "# 20. Find the sum of all elements in a set.\n",
        "# Define a set of numbers\n",
        "my_set = {5, 10, 15, 20}\n",
        "\n",
        "# Calculate the sum\n",
        "total = sum(my_set)\n",
        "\n",
        "# Print the result\n",
        "print(\"Sum of all elements:\", total)\n"
      ],
      "metadata": {
        "colab": {
          "base_uri": "https://localhost:8080/"
        },
        "id": "zH0Am4_AKxU1",
        "outputId": "0e997493-58cf-486f-bdd1-216c8ba28430"
      },
      "execution_count": 17,
      "outputs": [
        {
          "output_type": "stream",
          "name": "stdout",
          "text": [
            "Sum of all elements: 50\n"
          ]
        }
      ]
    },
    {
      "cell_type": "code",
      "source": [
        "# 5. Dictionary (5 Questions)\n",
        "# 21. Create a dictionary and print keys in ascending order.\n",
        "dict1={'c':1, 'b':2, 'a':3}\n",
        "keys=(dict1.keys())\n",
        "keys=sorted(keys)\n",
        "print(keys)"
      ],
      "metadata": {
        "colab": {
          "base_uri": "https://localhost:8080/"
        },
        "id": "vUXRn_2NLJ7j",
        "outputId": "29f2addc-e500-4142-e3e2-895d0ba6e770"
      },
      "execution_count": 20,
      "outputs": [
        {
          "output_type": "stream",
          "name": "stdout",
          "text": [
            "['a', 'b', 'c']\n"
          ]
        }
      ]
    },
    {
      "cell_type": "code",
      "source": [
        "# 22. Add a new key to a dictionary with value equal to the sum of existing values.\n",
        "dict1['d']=dict1['a']+dict1['b']+dict1['c']\n",
        "print(dict1)"
      ],
      "metadata": {
        "colab": {
          "base_uri": "https://localhost:8080/"
        },
        "id": "jhv6WRe_PuT2",
        "outputId": "36ee2e88-8003-46f6-d91b-a64f2beb007c"
      },
      "execution_count": 21,
      "outputs": [
        {
          "output_type": "stream",
          "name": "stdout",
          "text": [
            "{'c': 1, 'b': 2, 'a': 3, 'd': 6}\n"
          ]
        }
      ]
    },
    {
      "cell_type": "code",
      "source": [
        "# 23. Merge two dictionaries into one.\n",
        "dict1={'a':1,'b':2}\n",
        "dict2={'c':3,'d':4}\n",
        "dict1.update(dict2)\n",
        "print(dict1)\n"
      ],
      "metadata": {
        "colab": {
          "base_uri": "https://localhost:8080/"
        },
        "id": "fnqhU5bwQaeF",
        "outputId": "1e3131ab-2dac-4983-d61a-3efd65a09f9a"
      },
      "execution_count": 22,
      "outputs": [
        {
          "output_type": "stream",
          "name": "stdout",
          "text": [
            "{'a': 1, 'b': 2, 'c': 3, 'd': 4}\n"
          ]
        }
      ]
    },
    {
      "cell_type": "code",
      "source": [
        "# 24. Find the key with the largest value in a dictionary.\n",
        "my_dict = {'a': 10, 'b': 25, 'c': 7, 'd': 42}\n",
        "\n",
        "max_key = max(my_dict, key=my_dict.get)\n",
        "print(\"Key with the largest value:\", max_key)\n"
      ],
      "metadata": {
        "colab": {
          "base_uri": "https://localhost:8080/"
        },
        "id": "23C7ptoORPI3",
        "outputId": "46cd342c-2e63-4535-e461-80030809b976"
      },
      "execution_count": 23,
      "outputs": [
        {
          "output_type": "stream",
          "name": "stdout",
          "text": [
            "Key with the largest value: d\n"
          ]
        }
      ]
    },
    {
      "cell_type": "code",
      "source": [
        "# 25. Store the frequency of characters of a string in a dictionary.\n",
        "\n",
        "from collections import Counter\n",
        "\n",
        "input_str = \"hello world\"\n",
        "char_freq = Counter(input_str)\n",
        "\n",
        "print(char_freq)\n"
      ],
      "metadata": {
        "colab": {
          "base_uri": "https://localhost:8080/"
        },
        "id": "QDULGiZfSJhN",
        "outputId": "10771474-9177-49bd-e1fc-16dbc118c112"
      },
      "execution_count": 24,
      "outputs": [
        {
          "output_type": "stream",
          "name": "stdout",
          "text": [
            "Counter({'l': 3, 'o': 2, 'h': 1, 'e': 1, ' ': 1, 'w': 1, 'r': 1, 'd': 1})\n"
          ]
        }
      ]
    }
  ]
}